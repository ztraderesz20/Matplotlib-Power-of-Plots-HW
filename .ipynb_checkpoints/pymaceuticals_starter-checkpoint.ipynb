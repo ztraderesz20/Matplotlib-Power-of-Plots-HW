{
 "cells": [
  {
   "cell_type": "markdown",
   "metadata": {},
   "source": [
    "## Observations and Insights"
   ]
  },
  {
   "cell_type": "markdown",
   "metadata": {},
   "source": []
  },
  {
   "cell_type": "markdown",
   "metadata": {},
   "source": [
    "## Dependencies and starter code"
   ]
  },
  {
   "cell_type": "code",
   "execution_count": 1,
   "metadata": {
    "scrolled": false
   },
   "outputs": [],
   "source": [
    "# Dependencies and Setup\n",
    "import matplotlib.pyplot as plt\n",
    "import pandas as pd\n",
    "import scipy.stats as st\n",
    "\n",
    "# Study data files\n",
    "mouse_metadata = \"data/Mouse_metadata.csv\"\n",
    "study_results = \"data/Study_results.csv\"\n",
    "\n",
    "# Read the mouse data and the study results\n",
    "mouse_metadata = pd.read_csv(mouse_metadata)\n",
    "study_results = pd.read_csv(study_results)\n"
   ]
  },
  {
   "cell_type": "code",
   "execution_count": 2,
   "metadata": {},
   "outputs": [],
   "source": [
    "#mouse_metadata"
   ]
  },
  {
   "cell_type": "code",
   "execution_count": 3,
   "metadata": {},
   "outputs": [],
   "source": [
    "#mouse_metadata.count()"
   ]
  },
  {
   "cell_type": "code",
   "execution_count": 4,
   "metadata": {},
   "outputs": [],
   "source": [
    "#study_results"
   ]
  },
  {
   "cell_type": "code",
   "execution_count": 5,
   "metadata": {},
   "outputs": [],
   "source": [
    "#study_results.count()"
   ]
  },
  {
   "cell_type": "code",
   "execution_count": 6,
   "metadata": {},
   "outputs": [
    {
     "data": {
      "text/html": [
       "<div>\n",
       "<style scoped>\n",
       "    .dataframe tbody tr th:only-of-type {\n",
       "        vertical-align: middle;\n",
       "    }\n",
       "\n",
       "    .dataframe tbody tr th {\n",
       "        vertical-align: top;\n",
       "    }\n",
       "\n",
       "    .dataframe thead th {\n",
       "        text-align: right;\n",
       "    }\n",
       "</style>\n",
       "<table border=\"1\" class=\"dataframe\">\n",
       "  <thead>\n",
       "    <tr style=\"text-align: right;\">\n",
       "      <th></th>\n",
       "      <th>mouse_id</th>\n",
       "      <th>drug_regimen</th>\n",
       "      <th>sex</th>\n",
       "      <th>age_months</th>\n",
       "      <th>weight_g</th>\n",
       "      <th>timepoint</th>\n",
       "      <th>tumor_volume_mm3</th>\n",
       "      <th>metastatic_sites</th>\n",
       "    </tr>\n",
       "  </thead>\n",
       "  <tbody>\n",
       "    <tr>\n",
       "      <td>0</td>\n",
       "      <td>k403</td>\n",
       "      <td>Ramicane</td>\n",
       "      <td>Male</td>\n",
       "      <td>21</td>\n",
       "      <td>16</td>\n",
       "      <td>0</td>\n",
       "      <td>45.000000</td>\n",
       "      <td>0</td>\n",
       "    </tr>\n",
       "    <tr>\n",
       "      <td>1</td>\n",
       "      <td>k403</td>\n",
       "      <td>Ramicane</td>\n",
       "      <td>Male</td>\n",
       "      <td>21</td>\n",
       "      <td>16</td>\n",
       "      <td>5</td>\n",
       "      <td>38.825898</td>\n",
       "      <td>0</td>\n",
       "    </tr>\n",
       "    <tr>\n",
       "      <td>2</td>\n",
       "      <td>k403</td>\n",
       "      <td>Ramicane</td>\n",
       "      <td>Male</td>\n",
       "      <td>21</td>\n",
       "      <td>16</td>\n",
       "      <td>10</td>\n",
       "      <td>35.014271</td>\n",
       "      <td>1</td>\n",
       "    </tr>\n",
       "    <tr>\n",
       "      <td>3</td>\n",
       "      <td>k403</td>\n",
       "      <td>Ramicane</td>\n",
       "      <td>Male</td>\n",
       "      <td>21</td>\n",
       "      <td>16</td>\n",
       "      <td>15</td>\n",
       "      <td>34.223992</td>\n",
       "      <td>1</td>\n",
       "    </tr>\n",
       "    <tr>\n",
       "      <td>4</td>\n",
       "      <td>k403</td>\n",
       "      <td>Ramicane</td>\n",
       "      <td>Male</td>\n",
       "      <td>21</td>\n",
       "      <td>16</td>\n",
       "      <td>20</td>\n",
       "      <td>32.997729</td>\n",
       "      <td>1</td>\n",
       "    </tr>\n",
       "    <tr>\n",
       "      <td>...</td>\n",
       "      <td>...</td>\n",
       "      <td>...</td>\n",
       "      <td>...</td>\n",
       "      <td>...</td>\n",
       "      <td>...</td>\n",
       "      <td>...</td>\n",
       "      <td>...</td>\n",
       "      <td>...</td>\n",
       "    </tr>\n",
       "    <tr>\n",
       "      <td>1888</td>\n",
       "      <td>z969</td>\n",
       "      <td>Naftisol</td>\n",
       "      <td>Male</td>\n",
       "      <td>9</td>\n",
       "      <td>30</td>\n",
       "      <td>25</td>\n",
       "      <td>63.145652</td>\n",
       "      <td>2</td>\n",
       "    </tr>\n",
       "    <tr>\n",
       "      <td>1889</td>\n",
       "      <td>z969</td>\n",
       "      <td>Naftisol</td>\n",
       "      <td>Male</td>\n",
       "      <td>9</td>\n",
       "      <td>30</td>\n",
       "      <td>30</td>\n",
       "      <td>65.841013</td>\n",
       "      <td>3</td>\n",
       "    </tr>\n",
       "    <tr>\n",
       "      <td>1890</td>\n",
       "      <td>z969</td>\n",
       "      <td>Naftisol</td>\n",
       "      <td>Male</td>\n",
       "      <td>9</td>\n",
       "      <td>30</td>\n",
       "      <td>35</td>\n",
       "      <td>69.176246</td>\n",
       "      <td>4</td>\n",
       "    </tr>\n",
       "    <tr>\n",
       "      <td>1891</td>\n",
       "      <td>z969</td>\n",
       "      <td>Naftisol</td>\n",
       "      <td>Male</td>\n",
       "      <td>9</td>\n",
       "      <td>30</td>\n",
       "      <td>40</td>\n",
       "      <td>70.314904</td>\n",
       "      <td>4</td>\n",
       "    </tr>\n",
       "    <tr>\n",
       "      <td>1892</td>\n",
       "      <td>z969</td>\n",
       "      <td>Naftisol</td>\n",
       "      <td>Male</td>\n",
       "      <td>9</td>\n",
       "      <td>30</td>\n",
       "      <td>45</td>\n",
       "      <td>73.867845</td>\n",
       "      <td>4</td>\n",
       "    </tr>\n",
       "  </tbody>\n",
       "</table>\n",
       "<p>1893 rows × 8 columns</p>\n",
       "</div>"
      ],
      "text/plain": [
       "     mouse_id drug_regimen   sex  age_months  weight_g  timepoint  \\\n",
       "0        k403     Ramicane  Male          21        16          0   \n",
       "1        k403     Ramicane  Male          21        16          5   \n",
       "2        k403     Ramicane  Male          21        16         10   \n",
       "3        k403     Ramicane  Male          21        16         15   \n",
       "4        k403     Ramicane  Male          21        16         20   \n",
       "...       ...          ...   ...         ...       ...        ...   \n",
       "1888     z969     Naftisol  Male           9        30         25   \n",
       "1889     z969     Naftisol  Male           9        30         30   \n",
       "1890     z969     Naftisol  Male           9        30         35   \n",
       "1891     z969     Naftisol  Male           9        30         40   \n",
       "1892     z969     Naftisol  Male           9        30         45   \n",
       "\n",
       "      tumor_volume_mm3  metastatic_sites  \n",
       "0            45.000000                 0  \n",
       "1            38.825898                 0  \n",
       "2            35.014271                 1  \n",
       "3            34.223992                 1  \n",
       "4            32.997729                 1  \n",
       "...                ...               ...  \n",
       "1888         63.145652                 2  \n",
       "1889         65.841013                 3  \n",
       "1890         69.176246                 4  \n",
       "1891         70.314904                 4  \n",
       "1892         73.867845                 4  \n",
       "\n",
       "[1893 rows x 8 columns]"
      ]
     },
     "execution_count": 6,
     "metadata": {},
     "output_type": "execute_result"
    }
   ],
   "source": [
    "# Combine the data into a single dataset\n",
    "combined_data_df = pd.merge(mouse_metadata, study_results, how=\"outer\", on=\"Mouse ID\")\n",
    "\n",
    "# Clean up column headings to be uniform.  Found this script on Stack OverFlow and thought it was helpful.\n",
    "# Strips parenthese and replaces all text to lowercase and spaces to underscore\n",
    "combined_data_df.columns = combined_data_df.columns.str.strip().str.lower().str.replace(' ', '_').str.replace('(', '').str.replace(')', '')\n",
    "\n",
    "combined_data_df"
   ]
  },
  {
   "cell_type": "markdown",
   "metadata": {},
   "source": [
    "## Summary statistics"
   ]
  },
  {
   "cell_type": "markdown",
   "metadata": {},
   "source": [
    "Generate a summary statistics table of mean, median, variance, standard deviation, and SEM of the tumor volume\n",
    "for each regimen"
   ]
  },
  {
   "cell_type": "code",
   "execution_count": 7,
   "metadata": {},
   "outputs": [
    {
     "data": {
      "text/html": [
       "<div>\n",
       "<style scoped>\n",
       "    .dataframe tbody tr th:only-of-type {\n",
       "        vertical-align: middle;\n",
       "    }\n",
       "\n",
       "    .dataframe tbody tr th {\n",
       "        vertical-align: top;\n",
       "    }\n",
       "\n",
       "    .dataframe thead th {\n",
       "        text-align: right;\n",
       "    }\n",
       "</style>\n",
       "<table border=\"1\" class=\"dataframe\">\n",
       "  <thead>\n",
       "    <tr style=\"text-align: right;\">\n",
       "      <th></th>\n",
       "      <th>tumor_vol_mean</th>\n",
       "      <th>tumor_vol_median</th>\n",
       "      <th>tumor_vol_variance</th>\n",
       "      <th>tumor_vol_stdev</th>\n",
       "      <th>tumor_vol_sem</th>\n",
       "    </tr>\n",
       "    <tr>\n",
       "      <th>drug_regimen</th>\n",
       "      <th></th>\n",
       "      <th></th>\n",
       "      <th></th>\n",
       "      <th></th>\n",
       "      <th></th>\n",
       "    </tr>\n",
       "  </thead>\n",
       "  <tbody>\n",
       "    <tr>\n",
       "      <td>Capomulin</td>\n",
       "      <td>40.675741</td>\n",
       "      <td>41.557809</td>\n",
       "      <td>24.947764</td>\n",
       "      <td>4.994774</td>\n",
       "      <td>0.329346</td>\n",
       "    </tr>\n",
       "    <tr>\n",
       "      <td>Ceftamin</td>\n",
       "      <td>52.591172</td>\n",
       "      <td>51.776157</td>\n",
       "      <td>39.290177</td>\n",
       "      <td>6.268188</td>\n",
       "      <td>0.469821</td>\n",
       "    </tr>\n",
       "    <tr>\n",
       "      <td>Infubinol</td>\n",
       "      <td>52.884795</td>\n",
       "      <td>51.820584</td>\n",
       "      <td>43.128684</td>\n",
       "      <td>6.567243</td>\n",
       "      <td>0.492236</td>\n",
       "    </tr>\n",
       "    <tr>\n",
       "      <td>Ketapril</td>\n",
       "      <td>55.235638</td>\n",
       "      <td>53.698743</td>\n",
       "      <td>68.553577</td>\n",
       "      <td>8.279709</td>\n",
       "      <td>0.603860</td>\n",
       "    </tr>\n",
       "    <tr>\n",
       "      <td>Naftisol</td>\n",
       "      <td>54.331565</td>\n",
       "      <td>52.509285</td>\n",
       "      <td>66.173479</td>\n",
       "      <td>8.134708</td>\n",
       "      <td>0.596466</td>\n",
       "    </tr>\n",
       "    <tr>\n",
       "      <td>Placebo</td>\n",
       "      <td>54.033581</td>\n",
       "      <td>52.288934</td>\n",
       "      <td>61.168083</td>\n",
       "      <td>7.821003</td>\n",
       "      <td>0.581331</td>\n",
       "    </tr>\n",
       "    <tr>\n",
       "      <td>Propriva</td>\n",
       "      <td>52.322552</td>\n",
       "      <td>50.854632</td>\n",
       "      <td>42.351070</td>\n",
       "      <td>6.507770</td>\n",
       "      <td>0.512884</td>\n",
       "    </tr>\n",
       "    <tr>\n",
       "      <td>Ramicane</td>\n",
       "      <td>40.216745</td>\n",
       "      <td>40.673236</td>\n",
       "      <td>23.486704</td>\n",
       "      <td>4.846308</td>\n",
       "      <td>0.320955</td>\n",
       "    </tr>\n",
       "    <tr>\n",
       "      <td>Stelasyn</td>\n",
       "      <td>54.233149</td>\n",
       "      <td>52.431737</td>\n",
       "      <td>59.450562</td>\n",
       "      <td>7.710419</td>\n",
       "      <td>0.573111</td>\n",
       "    </tr>\n",
       "    <tr>\n",
       "      <td>Zoniferol</td>\n",
       "      <td>53.236507</td>\n",
       "      <td>51.818479</td>\n",
       "      <td>48.533355</td>\n",
       "      <td>6.966589</td>\n",
       "      <td>0.516398</td>\n",
       "    </tr>\n",
       "  </tbody>\n",
       "</table>\n",
       "</div>"
      ],
      "text/plain": [
       "              tumor_vol_mean  tumor_vol_median  tumor_vol_variance  \\\n",
       "drug_regimen                                                         \n",
       "Capomulin          40.675741         41.557809           24.947764   \n",
       "Ceftamin           52.591172         51.776157           39.290177   \n",
       "Infubinol          52.884795         51.820584           43.128684   \n",
       "Ketapril           55.235638         53.698743           68.553577   \n",
       "Naftisol           54.331565         52.509285           66.173479   \n",
       "Placebo            54.033581         52.288934           61.168083   \n",
       "Propriva           52.322552         50.854632           42.351070   \n",
       "Ramicane           40.216745         40.673236           23.486704   \n",
       "Stelasyn           54.233149         52.431737           59.450562   \n",
       "Zoniferol          53.236507         51.818479           48.533355   \n",
       "\n",
       "              tumor_vol_stdev  tumor_vol_sem  \n",
       "drug_regimen                                  \n",
       "Capomulin            4.994774       0.329346  \n",
       "Ceftamin             6.268188       0.469821  \n",
       "Infubinol            6.567243       0.492236  \n",
       "Ketapril             8.279709       0.603860  \n",
       "Naftisol             8.134708       0.596466  \n",
       "Placebo              7.821003       0.581331  \n",
       "Propriva             6.507770       0.512884  \n",
       "Ramicane             4.846308       0.320955  \n",
       "Stelasyn             7.710419       0.573111  \n",
       "Zoniferol            6.966589       0.516398  "
      ]
     },
     "execution_count": 7,
     "metadata": {},
     "output_type": "execute_result"
    }
   ],
   "source": [
    "# Create reduced DataFrame with only 'drug_regimen' and 'tumor_volume_mm3' fields\n",
    "stats_df = combined_data_df[[\"drug_regimen\", \"tumor_volume_mm3\"]]\n",
    "\n",
    "# Re-name tumor_vol_mm3 to tumor_vol_mean which will be used later as column heading in groupby object\n",
    "tumor_stats = stats_df.rename(columns={\"tumor_volume_mm3\":\"tumor_vol_mean\"})\n",
    "\n",
    "# Just copy 'tumor_vol_mean' 4x and append to tumor_stats DataFrame.  Named columns will hold our statistical results\n",
    "tumor_stats[\"tumor_vol_median\"] = tumor_stats.iloc[:,1]\n",
    "tumor_stats[\"tumor_vol_variance\"] = tumor_stats.iloc[:,1]\n",
    "tumor_stats[\"tumor_vol_stdev\"] = tumor_stats.iloc[:,1]\n",
    "tumor_stats[\"tumor_vol_sem\"] = tumor_stats.iloc[:,1]\n",
    "\n",
    "\n",
    "grouped_drugregimen = tumor_stats.groupby('drug_regimen').agg({\"tumor_vol_mean\":\"mean\",\n",
    "                                                               \"tumor_vol_median\":\"median\",\n",
    "                                                               \"tumor_vol_variance\":\"var\",\n",
    "                                                               \"tumor_vol_stdev\":\"std\",\n",
    "                                                               \"tumor_vol_sem\":\"sem\"})\n",
    "grouped_drugregimen"
   ]
  },
  {
   "cell_type": "markdown",
   "metadata": {},
   "source": [
    "## Bar plots"
   ]
  },
  {
   "cell_type": "markdown",
   "metadata": {},
   "source": [
    "Generate a bar plot showing number of data points for each treatment regimen using pandas\n",
    "\n",
    "Generate a bar plot showing number of data points for each treatment regimen using pyplot"
   ]
  },
  {
   "cell_type": "markdown",
   "metadata": {},
   "source": [
    "<< Pandas plot solution steps >>"
   ]
  },
  {
   "cell_type": "code",
   "execution_count": 8,
   "metadata": {},
   "outputs": [
    {
     "data": {
      "image/png": "[encoded data removed]",
      "text/plain": [
       "<Figure size 388.8x316.8 with 1 Axes>"
      ]
     },
     "metadata": {
      "needs_background": "light"
     },
     "output_type": "display_data"
    }
   ],
   "source": [
    "# Sort DataFrame by 'drug_regimen' in descending order\n",
    "sorted_df = combined_data_df.sort_values(\"drug_regimen\", ascending=True)\n",
    "\n",
    "# Determine number of data points per drug regimen by counting 'mouse_id'\n",
    "data_points = sorted_df.groupby(\"drug_regimen\")[\"mouse_id\"].count()\n",
    "\n",
    "# Plot bar graph using DataFrame .plot() function\n",
    "data_points.plot(kind=\"bar\", figsize=(5.4,4.4), facecolor=\"red\")\n",
    "\n",
    "# Apply title, x label, and y label\n",
    "plt.title(\"Samples per Regimen\")\n",
    "plt.ylabel(\"Number of Samples\")\n",
    "plt.xlabel(\"Drug Regiment\")\n",
    "\n",
    "# Resize plot to display labels\n",
    "plt.tight_layout()\n",
    "\n",
    "plt.show()"
   ]
  },
  {
   "cell_type": "markdown",
   "metadata": {},
   "source": [
    "<<  Matlib Pyplot solutions steps  >>"
   ]
  },
  {
   "cell_type": "code",
   "execution_count": 9,
   "metadata": {},
   "outputs": [
    {
     "data": {
      "image/png": "[encoded data removed]",
      "text/plain": [
       "<Figure size 432x288 with 1 Axes>"
      ]
     },
     "metadata": {
      "needs_background": "light"
     },
     "output_type": "display_data"
    }
   ],
   "source": [
    "import numpy as np\n",
    "\n",
    "# Determine y_axis data by counting 'mouse_id' for each 'drug_regimen'\n",
    "y_data = sorted_df.groupby(\"drug_regimen\")[\"mouse_id\"].count().tolist()\n",
    "\n",
    "# Determine x_axis labels and x_axis increments\n",
    "x_labels = sorted_df['drug_regimen'].unique()\n",
    "x_axis = np.arange(len(x_labels))\n",
    "\n",
    "# Plot bar graph using matplotlib plt function\n",
    "plt.bar(x_axis, y_data, color='r', align=\"center\", width=0.50)\n",
    "\n",
    "# Apply x_labels for each x_axis tick and rotate text to vertical\n",
    "tick_locations = [value for value in x_axis]\n",
    "plt.xticks(tick_locations, x_labels, rotation=\"vertical\")\n",
    "\n",
    "# Apply title, x label, and y label\n",
    "plt.title(\"Samples per Regimen\")\n",
    "plt.xlabel(\"Drug Regiment\")\n",
    "plt.ylabel(\"Number of Samples\")\n",
    "plt.show()\n"
   ]
  },
  {
   "cell_type": "markdown",
   "metadata": {},
   "source": [
    "## Pie plots"
   ]
  },
  {
   "cell_type": "markdown",
   "metadata": {},
   "source": [
    "Generate a pie plot showing the distribution of female versus male mice using pandas"
   ]
  },
  {
   "cell_type": "code",
   "execution_count": 10,
   "metadata": {},
   "outputs": [
    {
     "data": {
      "image/png": "[encoded data removed]",
      "text/plain": [
       "<Figure size 288x288 with 1 Axes>"
      ]
     },
     "metadata": {},
     "output_type": "display_data"
    }
   ],
   "source": [
    "male_mice = (combined_data_df[\"sex\"] == 'Male').sum()\n",
    "female_mice= (combined_data_df[\"sex\"] == 'Female').sum()\n",
    "\n",
    "gender_dict = {\"sex\":[male_mice,female_mice]}\n",
    "gender_df = pd.DataFrame(gender_dict,index = ['Male','Female'])\n",
    "\n",
    "gender_df.plot.pie(y=\"sex\", figsize=(4, 4),autopct='%1.1f%%', startangle=90, explode=(0.03,0))\n",
    "plt.title(\"Distribution of sexes\")\n",
    "plt.show()"
   ]
  },
  {
   "cell_type": "markdown",
   "metadata": {},
   "source": [
    "Generate a pie plot showing the distribution of female versus male mice using pyplot"
   ]
  },
  {
   "cell_type": "code",
   "execution_count": 11,
   "metadata": {},
   "outputs": [
    {
     "data": {
      "image/png": "[encoded data removed]",
      "text/plain": [
       "<Figure size 432x288 with 1 Axes>"
      ]
     },
     "metadata": {},
     "output_type": "display_data"
    }
   ],
   "source": [
    "labels = [\"Male\", \"Female\"]\n",
    "sizes = [male_mice, female_mice]\n",
    "\n",
    "# Creates the pie chart based upon the values above\n",
    "plt.pie(sizes, labels=labels, autopct=\"%1.1f%%\", startangle=90, explode=(0.03,0))\n",
    "\n",
    "# Apply title, x label, and y label\n",
    "plt.title(\"Distribution of sexes\")\n",
    "plt.legend(loc=\"upper right\")\n",
    "plt.show()"
   ]
  },
  {
   "cell_type": "markdown",
   "metadata": {},
   "source": [
    "## Quartiles, outliers and boxplots"
   ]
  },
  {
   "cell_type": "code",
   "execution_count": 12,
   "metadata": {},
   "outputs": [],
   "source": [
    "# Calculate the final tumor volume of each mouse across four of the most promising treatment regimens.\n",
    "#Calculate the IQR and quantitatively determine if there are any potential outliers. "
   ]
  },
  {
   "cell_type": "code",
   "execution_count": 13,
   "metadata": {},
   "outputs": [],
   "source": [
    "# Generate a box plot of the final tumor volume of each mouse across four regimens of interest"
   ]
  },
  {
   "cell_type": "markdown",
   "metadata": {},
   "source": [
    "## Line and scatter plots"
   ]
  },
  {
   "cell_type": "markdown",
   "metadata": {},
   "source": [
    "Line plot of timepoint versus tumor volume for a mouse treated with Capomulin"
   ]
  },
  {
   "cell_type": "code",
   "execution_count": null,
   "metadata": {},
   "outputs": [],
   "source": []
  },
  {
   "cell_type": "code",
   "execution_count": 14,
   "metadata": {},
   "outputs": [
    {
     "data": {
      "image/png": "[encoded data removed]",
      "text/plain": [
       "<Figure size 432x288 with 1 Axes>"
      ]
     },
     "metadata": {
      "needs_background": "light"
     },
     "output_type": "display_data"
    }
   ],
   "source": [
    "# x_axis data; \n",
    "timepoint = combined_data_df.loc[combined_data_df[\"drug_regimen\"] == \"Capomulin\",\"timepoint\"]\n",
    "# y_axis data   \n",
    "tumor_vol = combined_data_df.loc[combined_data_df[\"drug_regimen\"] == \"Capomulin\", \"tumor_volume_mm3\"]\n",
    "\n",
    "time_\n",
    "\n",
    "# Plot results\n",
    "plt.plot(timepoint,tumor_vol)\n",
    "\n",
    "plt.title( \"Timepoint vs Tumor volume\")\n",
    "plt.xlabel(\"Timepoint\")\n",
    "plt.ylabel(\"Tumor volume, mm3\")\n",
    "plt.show()"
   ]
  },
  {
   "cell_type": "code",
   "execution_count": 43,
   "metadata": {},
   "outputs": [
    {
     "data": {
      "text/html": [
       "<div>\n",
       "<style scoped>\n",
       "    .dataframe tbody tr th:only-of-type {\n",
       "        vertical-align: middle;\n",
       "    }\n",
       "\n",
       "    .dataframe tbody tr th {\n",
       "        vertical-align: top;\n",
       "    }\n",
       "\n",
       "    .dataframe thead th {\n",
       "        text-align: right;\n",
       "    }\n",
       "</style>\n",
       "<table border=\"1\" class=\"dataframe\">\n",
       "  <thead>\n",
       "    <tr style=\"text-align: right;\">\n",
       "      <th></th>\n",
       "      <th>timepoint</th>\n",
       "      <th>tumor_vol</th>\n",
       "    </tr>\n",
       "  </thead>\n",
       "  <tbody>\n",
       "    <tr>\n",
       "      <td>30</td>\n",
       "      <td>0</td>\n",
       "      <td>45.000000</td>\n",
       "    </tr>\n",
       "    <tr>\n",
       "      <td>135</td>\n",
       "      <td>0</td>\n",
       "      <td>45.000000</td>\n",
       "    </tr>\n",
       "    <tr>\n",
       "      <td>153</td>\n",
       "      <td>0</td>\n",
       "      <td>45.000000</td>\n",
       "    </tr>\n",
       "    <tr>\n",
       "      <td>163</td>\n",
       "      <td>0</td>\n",
       "      <td>45.000000</td>\n",
       "    </tr>\n",
       "    <tr>\n",
       "      <td>10</td>\n",
       "      <td>0</td>\n",
       "      <td>45.000000</td>\n",
       "    </tr>\n",
       "    <tr>\n",
       "      <td>55</td>\n",
       "      <td>0</td>\n",
       "      <td>45.000000</td>\n",
       "    </tr>\n",
       "    <tr>\n",
       "      <td>65</td>\n",
       "      <td>0</td>\n",
       "      <td>45.000000</td>\n",
       "    </tr>\n",
       "    <tr>\n",
       "      <td>35</td>\n",
       "      <td>0</td>\n",
       "      <td>45.000000</td>\n",
       "    </tr>\n",
       "    <tr>\n",
       "      <td>179</td>\n",
       "      <td>15</td>\n",
       "      <td>45.216743</td>\n",
       "    </tr>\n",
       "    <tr>\n",
       "      <td>222</td>\n",
       "      <td>30</td>\n",
       "      <td>45.261384</td>\n",
       "    </tr>\n",
       "    <tr>\n",
       "      <td>120</td>\n",
       "      <td>25</td>\n",
       "      <td>45.354679</td>\n",
       "    </tr>\n",
       "    <tr>\n",
       "      <td>116</td>\n",
       "      <td>5</td>\n",
       "      <td>45.462243</td>\n",
       "    </tr>\n",
       "    <tr>\n",
       "      <td>11</td>\n",
       "      <td>5</td>\n",
       "      <td>45.473753</td>\n",
       "    </tr>\n",
       "    <tr>\n",
       "      <td>184</td>\n",
       "      <td>40</td>\n",
       "      <td>45.565821</td>\n",
       "    </tr>\n",
       "    <tr>\n",
       "      <td>86</td>\n",
       "      <td>5</td>\n",
       "      <td>45.595685</td>\n",
       "    </tr>\n",
       "    <tr>\n",
       "      <td>227</td>\n",
       "      <td>5</td>\n",
       "      <td>45.597064</td>\n",
       "    </tr>\n",
       "    <tr>\n",
       "      <td>66</td>\n",
       "      <td>5</td>\n",
       "      <td>45.622381</td>\n",
       "    </tr>\n",
       "    <tr>\n",
       "      <td>146</td>\n",
       "      <td>5</td>\n",
       "      <td>45.641438</td>\n",
       "    </tr>\n",
       "    <tr>\n",
       "      <td>136</td>\n",
       "      <td>5</td>\n",
       "      <td>45.651331</td>\n",
       "    </tr>\n",
       "    <tr>\n",
       "      <td>167</td>\n",
       "      <td>5</td>\n",
       "      <td>45.704434</td>\n",
       "    </tr>\n",
       "    <tr>\n",
       "      <td>207</td>\n",
       "      <td>5</td>\n",
       "      <td>45.737145</td>\n",
       "    </tr>\n",
       "    <tr>\n",
       "      <td>36</td>\n",
       "      <td>5</td>\n",
       "      <td>45.760886</td>\n",
       "    </tr>\n",
       "    <tr>\n",
       "      <td>56</td>\n",
       "      <td>5</td>\n",
       "      <td>45.781746</td>\n",
       "    </tr>\n",
       "    <tr>\n",
       "      <td>154</td>\n",
       "      <td>5</td>\n",
       "      <td>45.838998</td>\n",
       "    </tr>\n",
       "    <tr>\n",
       "      <td>106</td>\n",
       "      <td>5</td>\n",
       "      <td>45.839400</td>\n",
       "    </tr>\n",
       "    <tr>\n",
       "      <td>197</td>\n",
       "      <td>5</td>\n",
       "      <td>45.851193</td>\n",
       "    </tr>\n",
       "    <tr>\n",
       "      <td>96</td>\n",
       "      <td>5</td>\n",
       "      <td>45.893720</td>\n",
       "    </tr>\n",
       "    <tr>\n",
       "      <td>76</td>\n",
       "      <td>5</td>\n",
       "      <td>45.895647</td>\n",
       "    </tr>\n",
       "    <tr>\n",
       "      <td>180</td>\n",
       "      <td>20</td>\n",
       "      <td>45.933322</td>\n",
       "    </tr>\n",
       "    <tr>\n",
       "      <td>223</td>\n",
       "      <td>35</td>\n",
       "      <td>45.941949</td>\n",
       "    </tr>\n",
       "    <tr>\n",
       "      <td>228</td>\n",
       "      <td>10</td>\n",
       "      <td>46.059608</td>\n",
       "    </tr>\n",
       "    <tr>\n",
       "      <td>117</td>\n",
       "      <td>10</td>\n",
       "      <td>46.154737</td>\n",
       "    </tr>\n",
       "    <tr>\n",
       "      <td>107</td>\n",
       "      <td>10</td>\n",
       "      <td>46.304003</td>\n",
       "    </tr>\n",
       "    <tr>\n",
       "      <td>147</td>\n",
       "      <td>10</td>\n",
       "      <td>46.408361</td>\n",
       "    </tr>\n",
       "    <tr>\n",
       "      <td>67</td>\n",
       "      <td>10</td>\n",
       "      <td>46.414518</td>\n",
       "    </tr>\n",
       "    <tr>\n",
       "      <td>155</td>\n",
       "      <td>10</td>\n",
       "      <td>46.425366</td>\n",
       "    </tr>\n",
       "    <tr>\n",
       "      <td>229</td>\n",
       "      <td>15</td>\n",
       "      <td>46.539206</td>\n",
       "    </tr>\n",
       "    <tr>\n",
       "      <td>208</td>\n",
       "      <td>10</td>\n",
       "      <td>46.544292</td>\n",
       "    </tr>\n",
       "    <tr>\n",
       "      <td>37</td>\n",
       "      <td>10</td>\n",
       "      <td>46.568417</td>\n",
       "    </tr>\n",
       "    <tr>\n",
       "      <td>77</td>\n",
       "      <td>10</td>\n",
       "      <td>46.749006</td>\n",
       "    </tr>\n",
       "    <tr>\n",
       "      <td>198</td>\n",
       "      <td>10</td>\n",
       "      <td>46.759074</td>\n",
       "    </tr>\n",
       "    <tr>\n",
       "      <td>181</td>\n",
       "      <td>25</td>\n",
       "      <td>46.809225</td>\n",
       "    </tr>\n",
       "    <tr>\n",
       "      <td>224</td>\n",
       "      <td>40</td>\n",
       "      <td>46.821070</td>\n",
       "    </tr>\n",
       "    <tr>\n",
       "      <td>38</td>\n",
       "      <td>15</td>\n",
       "      <td>47.212200</td>\n",
       "    </tr>\n",
       "    <tr>\n",
       "      <td>156</td>\n",
       "      <td>15</td>\n",
       "      <td>47.322984</td>\n",
       "    </tr>\n",
       "    <tr>\n",
       "      <td>209</td>\n",
       "      <td>15</td>\n",
       "      <td>47.373423</td>\n",
       "    </tr>\n",
       "    <tr>\n",
       "      <td>199</td>\n",
       "      <td>15</td>\n",
       "      <td>47.488599</td>\n",
       "    </tr>\n",
       "    <tr>\n",
       "      <td>225</td>\n",
       "      <td>45</td>\n",
       "      <td>47.685963</td>\n",
       "    </tr>\n",
       "    <tr>\n",
       "      <td>200</td>\n",
       "      <td>20</td>\n",
       "      <td>48.070452</td>\n",
       "    </tr>\n",
       "    <tr>\n",
       "      <td>157</td>\n",
       "      <td>20</td>\n",
       "      <td>48.158209</td>\n",
       "    </tr>\n",
       "  </tbody>\n",
       "</table>\n",
       "</div>"
      ],
      "text/plain": [
       "     timepoint  tumor_vol\n",
       "30           0  45.000000\n",
       "135          0  45.000000\n",
       "153          0  45.000000\n",
       "163          0  45.000000\n",
       "10           0  45.000000\n",
       "55           0  45.000000\n",
       "65           0  45.000000\n",
       "35           0  45.000000\n",
       "179         15  45.216743\n",
       "222         30  45.261384\n",
       "120         25  45.354679\n",
       "116          5  45.462243\n",
       "11           5  45.473753\n",
       "184         40  45.565821\n",
       "86           5  45.595685\n",
       "227          5  45.597064\n",
       "66           5  45.622381\n",
       "146          5  45.641438\n",
       "136          5  45.651331\n",
       "167          5  45.704434\n",
       "207          5  45.737145\n",
       "36           5  45.760886\n",
       "56           5  45.781746\n",
       "154          5  45.838998\n",
       "106          5  45.839400\n",
       "197          5  45.851193\n",
       "96           5  45.893720\n",
       "76           5  45.895647\n",
       "180         20  45.933322\n",
       "223         35  45.941949\n",
       "228         10  46.059608\n",
       "117         10  46.154737\n",
       "107         10  46.304003\n",
       "147         10  46.408361\n",
       "67          10  46.414518\n",
       "155         10  46.425366\n",
       "229         15  46.539206\n",
       "208         10  46.544292\n",
       "37          10  46.568417\n",
       "77          10  46.749006\n",
       "198         10  46.759074\n",
       "181         25  46.809225\n",
       "224         40  46.821070\n",
       "38          15  47.212200\n",
       "156         15  47.322984\n",
       "209         15  47.373423\n",
       "199         15  47.488599\n",
       "225         45  47.685963\n",
       "200         20  48.070452\n",
       "157         20  48.158209"
      ]
     },
     "execution_count": 43,
     "metadata": {},
     "output_type": "execute_result"
    }
   ],
   "source": [
    "combo= pd.DataFrame(list(zip(timepoint, tumor_vol)),\n",
    "              columns=['timepoint','tumor_vol'])\n",
    "sorted_combo=combo.sort_values(\"tumor_vol\" , ascending=True)\n",
    "sorted_combo.tail(50)\n",
    "                  \n",
    "                  "
   ]
  },
  {
   "cell_type": "code",
   "execution_count": 44,
   "metadata": {},
   "outputs": [
    {
     "data": {
      "image/png": "[encoded data removed]",
      "text/plain": [
       "<Figure size 432x288 with 1 Axes>"
      ]
     },
     "metadata": {
      "needs_background": "light"
     },
     "output_type": "display_data"
    }
   ],
   "source": [
    "lines = sorted_combo.plot.line(x='timepoint', y='tumor_vol')\n"
   ]
  },
  {
   "cell_type": "markdown",
   "metadata": {},
   "source": [
    "Scatter plot of mouse weight versus average tumor volume for the Capomulin regimen"
   ]
  },
  {
   "cell_type": "code",
   "execution_count": 15,
   "metadata": {},
   "outputs": [
    {
     "data": {
      "image/png": "[encoded data removed]",
      "text/plain": [
       "<Figure size 432x288 with 1 Axes>"
      ]
     },
     "metadata": {
      "needs_background": "light"
     },
     "output_type": "display_data"
    }
   ],
   "source": [
    "# Extract weight data from mice using \"Capomulin\" drug regiment\n",
    "mouse_weight = combined_data_df.loc[combined_data_df[\"drug_regimen\"] == \"Capomulin\",\"weight_g\"]\n",
    "\n",
    "# Extract tumor volume avg from mice using \"Capomulin\" drug regiment\n",
    "# avg_tumor_vol = combined_data_df.loc[combined_data_df[\"drug_regimen\"] == \"Capomulin\",\"tumor_volume_mm3\"].mean()\n",
    "\n",
    "# Multiply avg_tumor_vol with array of 1's same size as mouse_weight df.array\n",
    "# ones_array = np.ones((1,len(mouse_weight)))\n",
    "# avg_tumor_array = avg_tumor_vol * ones_array\n",
    "\n",
    "tumor_vol = combined_data_df.loc[combined_data_df[\"drug_regimen\"] == \"Capomulin\",\"tumor_volume_mm3\"]\n",
    "\n",
    "plt.scatter(mouse_weight, tumor_vol, marker=\"o\", facecolors=\"red\", edgecolors=\"black\", alpha=0.75)\n",
    "\n",
    "plt.title( \"Mouse weight vs Tumor volume\")\n",
    "plt.xlabel(\"Weight, grams\")\n",
    "plt.ylabel(\"Tumor volume, mm3\")\n",
    "plt.show()"
   ]
  },
  {
   "cell_type": "markdown",
   "metadata": {},
   "source": [
    "Calculate the correlation coefficient and linear regression model for mouse weight and average tumor volume for the Capomulin regimen"
   ]
  },
  {
   "cell_type": "code",
   "execution_count": 33,
   "metadata": {},
   "outputs": [
    {
     "data": {
      "image/png": "[encoded data removed]",
      "text/plain": [
       "<Figure size 432x288 with 1 Axes>"
      ]
     },
     "metadata": {
      "needs_background": "light"
     },
     "output_type": "display_data"
    }
   ],
   "source": [
    "from scipy.stats import linregress\n",
    "\n",
    "#Add the linear regression equation and line to plot\n",
    "x_values = mouse_weight\n",
    "y_values = tumor_vol\n",
    "(slope, intercept, rvalue, pvalue, stderr) = linregress(x_values, y_values)\n",
    "regress_values = x_values * slope + intercept\n",
    "line_eq = \"y = \" + str(round(slope,2)) + \"x + \" + str(round(intercept,2))\n",
    "plt.scatter(x_values,y_values)\n",
    "plt.plot(x_values,regress_values,\"r-\")\n",
    "plt.annotate(line_eq,(20,30),fontsize=15,color=\"red\")\n",
    "plt.xlabel('Weight, grams')\n",
    "plt.ylabel('Tumor volume, mm3')\n",
    "plt.show()"
   ]
  },
  {
   "cell_type": "code",
   "execution_count": 32,
   "metadata": {},
   "outputs": [
    {
     "name": "stdout",
     "output_type": "stream",
     "text": [
      "The r-squared is: 0.5256995552077166\n"
     ]
    },
    {
     "data": {
      "image/png": "[encoded data removed]",
      "text/plain": [
       "<Figure size 432x288 with 1 Axes>"
      ]
     },
     "metadata": {
      "needs_background": "light"
     },
     "output_type": "display_data"
    }
   ],
   "source": [
    "# Print out the r-squared value along with the plot.\n",
    "x_values = mouse_weight\n",
    "y_values = tumor_vol\n",
    "(slope, intercept, rvalue, pvalue, stderr) = linregress(x_values, y_values)\n",
    "regress_values = x_values * slope + intercept\n",
    "line_eq = \"y = \" + str(round(slope,2)) + \"x + \" + str(round(intercept,2))\n",
    "plt.scatter(x_values,y_values)\n",
    "plt.plot(x_values,regress_values,\"r-\")\n",
    "plt.annotate(line_eq,(20,30),fontsize=15,color=\"red\")\n",
    "plt.xlabel('Weight, grams')\n",
    "plt.ylabel('Tumor volume, mm3')\n",
    "print(f\"The r-squared is: {rvalue}\")\n",
    "plt.show()\n"
   ]
  },
  {
   "cell_type": "code",
   "execution_count": null,
   "metadata": {},
   "outputs": [],
   "source": []
  },
  {
   "cell_type": "code",
   "execution_count": null,
   "metadata": {},
   "outputs": [],
   "source": []
  }
 ],
 "metadata": {
  "anaconda-cloud": {},
  "kernelspec": {
   "display_name": "Python 3",
   "language": "python",
   "name": "python3"
  },
  "language_info": {
   "codemirror_mode": {
    "name": "ipython",
    "version": 3
   },
   "file_extension": ".py",
   "mimetype": "text/x-python",
   "name": "python",
   "nbconvert_exporter": "python",
   "pygments_lexer": "ipython3",
   "version": "3.7.4"
  }
 },
 "nbformat": 4,
 "nbformat_minor": 2
}
